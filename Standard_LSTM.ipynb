{
 "cells": [
  {
   "cell_type": "markdown",
   "metadata": {},
   "source": [
    "# Standard LSTM for Sequence Classification"
   ]
  },
  {
   "cell_type": "markdown",
   "metadata": {},
   "source": [
    "This is the standard LSTM that the iBCM - LSTM combination will be benchmarked against."
   ]
  },
  {
   "cell_type": "code",
   "execution_count": 1,
   "metadata": {},
   "outputs": [
    {
     "name": "stderr",
     "output_type": "stream",
     "text": [
      "Using TensorFlow backend.\n"
     ]
    }
   ],
   "source": [
    "# Import libraries\n",
    "from keras.preprocessing import sequence\n",
    "from sklearn.model_selection import train_test_split\n",
    "from sklearn.preprocessing import LabelEncoder, OneHotEncoder\n",
    "import pandas as pd\n",
    "from keras.layers import LSTM, Dense,Dropout, Embedding\n",
    "from keras.models import Sequential\n",
    "from keras.optimizers import RMSprop,Adam\n",
    "import tensorflow as tf\n",
    "from keras.utils import to_categorical\n",
    "import numpy as np\n",
    "import random\n",
    "from sklearn.metrics import accuracy_score,precision_score,recall_score,f1_score,confusion_matrix,roc_auc_score\n",
    "import time\n"
   ]
  },
  {
   "cell_type": "code",
   "execution_count": 2,
   "metadata": {},
   "outputs": [],
   "source": [
    "# Define functions\n",
    "\n",
    "def load_sequences(name,path):\n",
    "    trace_file = open(path+'\\\\'+name+'.dat', 'r')\n",
    "    label_file = open(path+'\\\\'+name+'.lab', 'r')\n",
    "    \n",
    "    traces = []\n",
    "    label_list = []\n",
    "    labels = set()\n",
    "    for trace, label in zip(trace_file, label_file):\n",
    "        traces.append(trace)\n",
    "        label_list.append(label.replace('\\n',''))\n",
    "        labels.add(label.replace('\\n',''))\n",
    "    \n",
    "    final_traces = []\n",
    "    for trace in traces:\n",
    "        trace = trace.replace('\\n', '')\n",
    "        trace = trace.replace(' -1 -2', '')\n",
    "        acts = trace.split(' -1 ')\n",
    "        final_traces.append(acts)        \n",
    "            \n",
    "    df = pd.DataFrame({'Trace':final_traces, 'Label': label_list})\n",
    "    return df\n",
    "\n",
    "def one_hot_encode(sequence):\n",
    "\tencoding = list()\n",
    "\tfor value in sequence:\n",
    "\t\tvector = [0 for _ in range(n_unique_items+1)]\n",
    "\t\tvector[value] = 1\n",
    "\t\tencoding.append(vector)\n",
    "\treturn np.array(encoding)\n",
    "\n",
    "def one_hot_decode(encoded_seq):\n",
    "    return [np.argmax(vector) for vector in encoded_seq]"
   ]
  },
  {
   "cell_type": "code",
   "execution_count": 3,
   "metadata": {},
   "outputs": [],
   "source": [
    "#Load Data\n",
    "#Choose file and set path here!!\n",
    "name = 'context'\n",
    "path = 'D:\\Studies\\Dissertation\\iBCM\\iBCM-Master\\iBCM-master\\python'\n",
    "df = load_sequences(name,path)"
   ]
  },
  {
   "cell_type": "code",
   "execution_count": 4,
   "metadata": {},
   "outputs": [
    {
     "name": "stdout",
     "output_type": "stream",
     "text": [
      "Time for dataset creation is  0  seconds\n"
     ]
    }
   ],
   "source": [
    "start = time.time()\n",
    "\n",
    "traces = df.Trace\n",
    "\n",
    "trace_int = []\n",
    "trace_set = set()\n",
    "for x in traces:\n",
    "    trace_int.append([int(y) for y in x])\n",
    "    trace_set = trace_set.union(x)\n",
    "    \n",
    "new_df = pd.DataFrame({'Trace':trace_int,'Label':list(df.Label)})\n",
    "new_df.head(10)\n",
    "\n",
    "n_unique_items = len(trace_set)\n",
    "maxlen = max([len(x) for x in df.Trace])\n",
    "\n",
    "#padded_trace = sequence.pad_sequences(trace_int,maxlen = maxlen, padding = 'post')\n",
    "#Pre-padding\n",
    "padded_trace = sequence.pad_sequences(trace_int,maxlen = maxlen)\n",
    "padded_trace = padded_trace.tolist()\n",
    "\n",
    "end = time.time()\n",
    "\n",
    "print('Time for dataset creation is ',round(end-start),' seconds')"
   ]
  },
  {
   "cell_type": "code",
   "execution_count": 5,
   "metadata": {},
   "outputs": [
    {
     "name": "stderr",
     "output_type": "stream",
     "text": [
      "C:\\Users\\katri\\Anaconda3\\envs\\DL_TF2\\lib\\site-packages\\sklearn\\preprocessing\\_encoders.py:415: FutureWarning: The handling of integer data will change in version 0.22. Currently, the categories are determined based on the range [0, max(values)], while in the future they will be determined based on the unique values.\n",
      "If you want the future behaviour and silence this warning, you can specify \"categories='auto'\".\n",
      "In case you used a LabelEncoder before this OneHotEncoder to convert the categories to integers, then you can now use the OneHotEncoder directly.\n",
      "  warnings.warn(msg, FutureWarning)\n"
     ]
    }
   ],
   "source": [
    "pre_encode_label = list(df.Label).copy()\n",
    "LEnc = LabelEncoder()\n",
    "encoded_labels = LEnc.fit_transform(pre_encode_label)\n",
    "\n",
    "OHE = OneHotEncoder(dtype=int,sparse=False)\n",
    "enc = np.array(pre_encode_label).reshape(len(pre_encode_label),1)\n",
    "OHELabels = OHE.fit_transform(enc)\n",
    "\n",
    "dataframe  = pd.DataFrame({'Trace':padded_trace, 'Label':[int(x) for x in encoded_labels]})\n",
    "\n",
    "train, test = train_test_split(dataframe, test_size = 0.10)"
   ]
  },
  {
   "cell_type": "code",
   "execution_count": 6,
   "metadata": {},
   "outputs": [
    {
     "name": "stdout",
     "output_type": "stream",
     "text": [
      "Shape of Y_Train :  (216,)\n",
      "Shape of Y_Test :  (24,)\n",
      "\n",
      "Shape of X_train :  (216, 246)\n",
      "Shape of X_test :  (24, 246)\n"
     ]
    }
   ],
   "source": [
    "train_traces = train['Trace']\n",
    "train_labels = train['Label']\n",
    "\n",
    "test_traces = np.array(test['Trace'])\n",
    "test_labels = np.array(test['Label'])\n",
    "\n",
    "y_train = np.stack(train_labels)\n",
    "y_test  = np.stack(test_labels)\n",
    "\n",
    "x_train = np.stack(train_traces)\n",
    "x_test = np.stack(test_traces)\n",
    "\n",
    "print(\"Shape of Y_Train : \", y_train.shape)\n",
    "print(\"Shape of Y_Test : \", y_test.shape)\n",
    "\n",
    "num_lab = len(set(dataframe.Label))\n",
    "\n",
    "print(\"\\nShape of X_train : \",x_train.shape)\n",
    "print(\"Shape of X_test : \",x_test.shape)"
   ]
  },
  {
   "cell_type": "code",
   "execution_count": 7,
   "metadata": {},
   "outputs": [
    {
     "name": "stderr",
     "output_type": "stream",
     "text": [
      "WARNING: Logging before flag parsing goes to stderr.\n",
      "W0821 20:41:35.661411 26536 deprecation_wrapper.py:119] From C:\\Users\\katri\\Anaconda3\\envs\\DL_TF2\\lib\\site-packages\\keras\\backend\\tensorflow_backend.py:74: The name tf.get_default_graph is deprecated. Please use tf.compat.v1.get_default_graph instead.\n",
      "\n",
      "W0821 20:41:35.678351 26536 deprecation_wrapper.py:119] From C:\\Users\\katri\\Anaconda3\\envs\\DL_TF2\\lib\\site-packages\\keras\\backend\\tensorflow_backend.py:517: The name tf.placeholder is deprecated. Please use tf.compat.v1.placeholder instead.\n",
      "\n",
      "W0821 20:41:35.680349 26536 deprecation_wrapper.py:119] From C:\\Users\\katri\\Anaconda3\\envs\\DL_TF2\\lib\\site-packages\\keras\\backend\\tensorflow_backend.py:4138: The name tf.random_uniform is deprecated. Please use tf.random.uniform instead.\n",
      "\n",
      "W0821 20:41:35.737185 26536 deprecation_wrapper.py:119] From C:\\Users\\katri\\Anaconda3\\envs\\DL_TF2\\lib\\site-packages\\keras\\backend\\tensorflow_backend.py:133: The name tf.placeholder_with_default is deprecated. Please use tf.compat.v1.placeholder_with_default instead.\n",
      "\n",
      "W0821 20:41:35.743169 26536 deprecation.py:506] From C:\\Users\\katri\\Anaconda3\\envs\\DL_TF2\\lib\\site-packages\\keras\\backend\\tensorflow_backend.py:3445: calling dropout (from tensorflow.python.ops.nn_ops) with keep_prob is deprecated and will be removed in a future version.\n",
      "Instructions for updating:\n",
      "Please use `rate` instead of `keep_prob`. Rate should be set to `rate = 1 - keep_prob`.\n",
      "W0821 20:41:35.929670 26536 deprecation_wrapper.py:119] From C:\\Users\\katri\\Anaconda3\\envs\\DL_TF2\\lib\\site-packages\\keras\\optimizers.py:790: The name tf.train.Optimizer is deprecated. Please use tf.compat.v1.train.Optimizer instead.\n",
      "\n",
      "W0821 20:41:35.945628 26536 deprecation_wrapper.py:119] From C:\\Users\\katri\\Anaconda3\\envs\\DL_TF2\\lib\\site-packages\\keras\\backend\\tensorflow_backend.py:3341: The name tf.log is deprecated. Please use tf.math.log instead.\n",
      "\n",
      "W0821 20:41:36.015441 26536 deprecation.py:323] From C:\\Users\\katri\\Anaconda3\\envs\\DL_TF2\\lib\\site-packages\\tensorflow\\python\\ops\\math_grad.py:1250: add_dispatch_support.<locals>.wrapper (from tensorflow.python.ops.array_ops) is deprecated and will be removed in a future version.\n",
      "Instructions for updating:\n",
      "Use tf.where in 2.0, which has the same broadcast rule as np.where\n"
     ]
    },
    {
     "name": "stdout",
     "output_type": "stream",
     "text": [
      "_________________________________________________________________\n",
      "Layer (type)                 Output Shape              Param #   \n",
      "=================================================================\n",
      "embedding_1 (Embedding)      (None, None, 32)          64000     \n",
      "_________________________________________________________________\n",
      "lstm_1 (LSTM)                (None, 32)                8320      \n",
      "_________________________________________________________________\n",
      "dense_1 (Dense)              (None, 6)                 198       \n",
      "=================================================================\n",
      "Total params: 72,518\n",
      "Trainable params: 72,518\n",
      "Non-trainable params: 0\n",
      "_________________________________________________________________\n",
      "Train on 216 samples, validate on 24 samples\n",
      "Epoch 1/50\n",
      "216/216 [==============================] - 2s 8ms/step - loss: 1.7820 - acc: 0.2361 - val_loss: 1.7675 - val_acc: 0.0417\n",
      "Epoch 2/50\n",
      "216/216 [==============================] - 1s 4ms/step - loss: 1.7345 - acc: 0.2269 - val_loss: 1.7139 - val_acc: 0.0417\n",
      "Epoch 3/50\n",
      "216/216 [==============================] - 1s 4ms/step - loss: 1.6541 - acc: 0.2130 - val_loss: 1.6423 - val_acc: 0.0417\n",
      "Epoch 4/50\n",
      "216/216 [==============================] - 1s 3ms/step - loss: 1.6304 - acc: 0.1898 - val_loss: 1.6586 - val_acc: 0.0417\n",
      "Epoch 5/50\n",
      "216/216 [==============================] - 1s 3ms/step - loss: 1.6161 - acc: 0.2454 - val_loss: 1.6708 - val_acc: 0.0417\n",
      "Epoch 6/50\n",
      "216/216 [==============================] - 1s 3ms/step - loss: 1.6157 - acc: 0.2407 - val_loss: 1.6662 - val_acc: 0.0417\n",
      "Epoch 7/50\n",
      "216/216 [==============================] - 1s 3ms/step - loss: 1.6145 - acc: 0.2222 - val_loss: 1.6306 - val_acc: 0.0417\n",
      "Epoch 8/50\n",
      "216/216 [==============================] - 1s 4ms/step - loss: 1.6134 - acc: 0.1713 - val_loss: 1.6230 - val_acc: 0.0417\n",
      "Epoch 9/50\n",
      "216/216 [==============================] - 1s 3ms/step - loss: 1.6122 - acc: 0.2130 - val_loss: 1.6300 - val_acc: 0.0417\n",
      "Epoch 10/50\n",
      "216/216 [==============================] - 1s 4ms/step - loss: 1.5955 - acc: 0.2731 - val_loss: 1.6271 - val_acc: 0.0417\n",
      "Epoch 11/50\n",
      "216/216 [==============================] - 1s 4ms/step - loss: 1.5970 - acc: 0.2361 - val_loss: 1.6373 - val_acc: 0.0417\n",
      "Epoch 12/50\n",
      "216/216 [==============================] - 1s 3ms/step - loss: 1.5905 - acc: 0.2500 - val_loss: 1.6269 - val_acc: 0.0000e+00\n",
      "Epoch 13/50\n",
      "216/216 [==============================] - 1s 3ms/step - loss: 1.5876 - acc: 0.2639 - val_loss: 1.6187 - val_acc: 0.0833\n",
      "Epoch 14/50\n",
      "216/216 [==============================] - 1s 3ms/step - loss: 1.5818 - acc: 0.2685 - val_loss: 1.6041 - val_acc: 0.1667\n",
      "Epoch 15/50\n",
      "216/216 [==============================] - 1s 3ms/step - loss: 1.5513 - acc: 0.3009 - val_loss: 1.5710 - val_acc: 0.3750\n",
      "Epoch 16/50\n",
      "216/216 [==============================] - 1s 4ms/step - loss: 1.5229 - acc: 0.3380 - val_loss: 1.5197 - val_acc: 0.3333\n",
      "Epoch 17/50\n",
      "216/216 [==============================] - 1s 4ms/step - loss: 1.5016 - acc: 0.3519 - val_loss: 1.5050 - val_acc: 0.3750\n",
      "Epoch 18/50\n",
      "216/216 [==============================] - 1s 4ms/step - loss: 1.4589 - acc: 0.3935 - val_loss: 1.5104 - val_acc: 0.3333\n",
      "Epoch 19/50\n",
      "216/216 [==============================] - 1s 4ms/step - loss: 1.4168 - acc: 0.3981 - val_loss: 1.3603 - val_acc: 0.3333\n",
      "Epoch 20/50\n",
      "216/216 [==============================] - 1s 3ms/step - loss: 1.4011 - acc: 0.3981 - val_loss: 1.3346 - val_acc: 0.3333\n",
      "Epoch 21/50\n",
      "216/216 [==============================] - 1s 3ms/step - loss: 1.2888 - acc: 0.4676 - val_loss: 1.2711 - val_acc: 0.3333\n",
      "Epoch 22/50\n",
      "216/216 [==============================] - 1s 4ms/step - loss: 1.2706 - acc: 0.4444 - val_loss: 1.2244 - val_acc: 0.4583\n",
      "Epoch 23/50\n",
      "216/216 [==============================] - 1s 4ms/step - loss: 1.2943 - acc: 0.4306 - val_loss: 1.1327 - val_acc: 0.5000\n",
      "Epoch 24/50\n",
      "216/216 [==============================] - 1s 4ms/step - loss: 1.2392 - acc: 0.4306 - val_loss: 1.2156 - val_acc: 0.2917\n",
      "Epoch 25/50\n",
      "216/216 [==============================] - 1s 4ms/step - loss: 1.2016 - acc: 0.4630 - val_loss: 1.0910 - val_acc: 0.5000\n",
      "Epoch 26/50\n",
      "216/216 [==============================] - 1s 3ms/step - loss: 1.1595 - acc: 0.5000 - val_loss: 1.3130 - val_acc: 0.2500\n",
      "Epoch 27/50\n",
      "216/216 [==============================] - 1s 3ms/step - loss: 1.0977 - acc: 0.5278 - val_loss: 1.0588 - val_acc: 0.5000\n",
      "Epoch 28/50\n",
      "216/216 [==============================] - 1s 3ms/step - loss: 1.0848 - acc: 0.5093 - val_loss: 1.0554 - val_acc: 0.4167\n",
      "Epoch 29/50\n",
      "216/216 [==============================] - 1s 3ms/step - loss: 1.0403 - acc: 0.5324 - val_loss: 1.0345 - val_acc: 0.5417\n",
      "Epoch 30/50\n",
      "216/216 [==============================] - 1s 3ms/step - loss: 0.9953 - acc: 0.5741 - val_loss: 1.0091 - val_acc: 0.3750\n",
      "Epoch 31/50\n",
      "216/216 [==============================] - 1s 3ms/step - loss: 0.9400 - acc: 0.5833 - val_loss: 0.8521 - val_acc: 0.6667\n",
      "Epoch 32/50\n",
      "216/216 [==============================] - 1s 3ms/step - loss: 0.9807 - acc: 0.5926 - val_loss: 1.1167 - val_acc: 0.5833\n",
      "Epoch 33/50\n",
      "216/216 [==============================] - 1s 3ms/step - loss: 0.8919 - acc: 0.6343 - val_loss: 0.9192 - val_acc: 0.5417\n",
      "Epoch 34/50\n",
      "216/216 [==============================] - 1s 4ms/step - loss: 0.8297 - acc: 0.6481 - val_loss: 1.1047 - val_acc: 0.3750\n",
      "Epoch 35/50\n",
      "216/216 [==============================] - 1s 4ms/step - loss: 0.8642 - acc: 0.6019 - val_loss: 0.7842 - val_acc: 0.6250\n",
      "Epoch 36/50\n",
      "216/216 [==============================] - 1s 4ms/step - loss: 0.8168 - acc: 0.6111 - val_loss: 0.7567 - val_acc: 0.6250\n",
      "Epoch 37/50\n",
      "216/216 [==============================] - 1s 4ms/step - loss: 0.7743 - acc: 0.6065 - val_loss: 0.6372 - val_acc: 0.5833\n",
      "Epoch 38/50\n",
      "216/216 [==============================] - 1s 4ms/step - loss: 0.6933 - acc: 0.6296 - val_loss: 0.6213 - val_acc: 0.5417\n",
      "Epoch 39/50\n",
      "216/216 [==============================] - 1s 4ms/step - loss: 0.6933 - acc: 0.6528 - val_loss: 0.6870 - val_acc: 0.6667\n",
      "Epoch 40/50\n",
      "216/216 [==============================] - 1s 4ms/step - loss: 0.7419 - acc: 0.6389 - val_loss: 0.7519 - val_acc: 0.7500\n",
      "Epoch 41/50\n",
      "216/216 [==============================] - 1s 4ms/step - loss: 0.7391 - acc: 0.6296 - val_loss: 0.5769 - val_acc: 0.5833\n",
      "Epoch 42/50\n",
      "216/216 [==============================] - 1s 4ms/step - loss: 0.6254 - acc: 0.6759 - val_loss: 0.5262 - val_acc: 0.7500\n",
      "Epoch 43/50\n",
      "216/216 [==============================] - 1s 4ms/step - loss: 0.6814 - acc: 0.6806 - val_loss: 0.6643 - val_acc: 0.5833\n",
      "Epoch 44/50\n",
      "216/216 [==============================] - 1s 4ms/step - loss: 0.6959 - acc: 0.6343 - val_loss: 0.6959 - val_acc: 0.5833\n",
      "Epoch 45/50\n",
      "216/216 [==============================] - 1s 4ms/step - loss: 0.6391 - acc: 0.6806 - val_loss: 0.7037 - val_acc: 0.5833\n",
      "Epoch 46/50\n",
      "216/216 [==============================] - 1s 3ms/step - loss: 0.6128 - acc: 0.7037 - val_loss: 0.6440 - val_acc: 0.5833\n",
      "Epoch 47/50\n",
      "216/216 [==============================] - 1s 4ms/step - loss: 0.6815 - acc: 0.6713 - val_loss: 1.0511 - val_acc: 0.5417\n",
      "Epoch 48/50\n",
      "216/216 [==============================] - 1s 4ms/step - loss: 0.7299 - acc: 0.6806 - val_loss: 1.8272 - val_acc: 0.3333\n",
      "Epoch 49/50\n",
      "216/216 [==============================] - 1s 4ms/step - loss: 1.1816 - acc: 0.5833 - val_loss: 1.4248 - val_acc: 0.4583\n",
      "Epoch 50/50\n",
      "216/216 [==============================] - 1s 4ms/step - loss: 0.9950 - acc: 0.5833 - val_loss: 1.1617 - val_acc: 0.5000\n",
      "Time for training the model =  41.202  seconds\n",
      "24/24 [==============================] - 0s 873us/step\n",
      "Test score: 1.161734938621521\n",
      "Test accuracy: 0.5\n"
     ]
    }
   ],
   "source": [
    "start = time.time()\n",
    "\n",
    "#Hyperparameters\n",
    "time_steps = maxlen\n",
    "n_dim = 1\n",
    "batch_size = 1\n",
    "n_epochs = 50\n",
    "max_features = 2000\n",
    "cells = 32\n",
    "num_lab = len(set(dataframe.Label))+1\n",
    "\n",
    "results_dataframe_2 = pd.DataFrame(columns = [\n",
    "                             'Accuracy',\n",
    "                             'Loss Score',\n",
    "                             'Train size',\n",
    "                             'Model_time','Macro Precision','Micro Precision','Macro Recall','Micro Recall',\n",
    "                                              'Macro f1','Micro f1','Macro AUC',\n",
    "                                                         'Micro AUC',\n",
    "                                                         'Weighted AUC'])\n",
    "\n",
    "model = Sequential()\n",
    "model.add(Embedding(max_features, cells))\n",
    "model.add(LSTM(cells, dropout=0.2, recurrent_dropout=0.2,return_sequences = False))\n",
    "model.add(Dense(num_lab,activation = 'softmax'))\n",
    "model.summary()\n",
    "\n",
    "model.compile(loss = 'sparse_categorical_crossentropy', optimizer = \"nadam\", metrics = ['accuracy'])\n",
    "history = model.fit(x_train, y_train,epochs=n_epochs, validation_data=(x_test, y_test))\n",
    "\n",
    "end = time.time()\n",
    "exec_time = round(end - start,3)\n",
    "print('Time for training the model = ',exec_time,' seconds')\n",
    "\n",
    "evaluation = model.evaluate(x_test, y_test)\n",
    "print('Test score:', evaluation[0])\n",
    "print('Test accuracy:', evaluation[1])\n",
    "\n",
    "\n",
    "yhat_probs = model.predict(x_test, verbose=0)\n",
    "# predict crisp classes for test set\n",
    "yhat_classes = model.predict_classes(x_test, verbose=0)\n",
    "\n",
    "accuracy = accuracy_score(y_test, yhat_classes)\n",
    "# precision tp / (tp + fp)\n",
    "macro_precision = precision_score(y_test, yhat_classes,average='macro')\n",
    "micro_precision = precision_score(y_test, yhat_classes,average='micro')\n",
    "macro_recall = recall_score(y_test, yhat_classes,average='macro')\n",
    "micro_recall = recall_score(y_test, yhat_classes,average='micro')\n",
    "\n",
    "macro_f1 = f1_score(y_test, yhat_classes, average='macro')\n",
    "micro_f1 = f1_score(y_test, yhat_classes, average='micro')\n",
    "from sklearn.preprocessing import LabelBinarizer\n",
    "\n",
    "lb = LabelBinarizer()\n",
    "lb.fit(y_test)\n",
    "bin_lab_test = lb.transform(y_test)\n",
    "bin_lab_pred = lb.transform(yhat_classes)\n",
    "\n",
    "macro_auc = roc_auc_score(bin_lab_test, bin_lab_pred, average = 'macro')\n",
    "micro_auc = roc_auc_score(bin_lab_test, bin_lab_pred, average = 'micro')\n",
    "weighted_auc = roc_auc_score(bin_lab_test, bin_lab_pred, average = 'weighted')\n",
    "\n",
    "results_dataframe_2 = results_dataframe_2.append({'Accuracy':evaluation[1],\n",
    "                                                 'Loss Score':evaluation[0],\n",
    "                                                 'Train size':x_train.size,\n",
    "                                                 'Model_time':exec_time,\n",
    "                                                 'Macro Precision':macro_precision,\n",
    "                                                 'Micro Precision':micro_precision,\n",
    "                                                 'Macro Recall':macro_recall,\n",
    "                                                'Micro Recall':micro_recall,\n",
    "                                                 'Macro f1':macro_f1,\n",
    "                                                 'Micro f1':micro_f1,\n",
    "                                                 'Macro AUC':macro_auc,\n",
    "                                                 'Micro AUC':micro_auc,\n",
    "                                                 'Weighted AUC':weighted_auc},ignore_index=True)"
   ]
  },
  {
   "cell_type": "code",
   "execution_count": 8,
   "metadata": {},
   "outputs": [
    {
     "data": {
      "image/png": "[encoded data removed]",
      "text/plain": [
       "<Figure size 432x288 with 1 Axes>"
      ]
     },
     "metadata": {
      "needs_background": "light"
     },
     "output_type": "display_data"
    }
   ],
   "source": [
    "#Plot training vs validation loss\n",
    "%matplotlib inline\n",
    "from matplotlib import pyplot\n",
    "\n",
    "pyplot.plot(history.history['loss'])\n",
    "pyplot.plot(history.history['val_loss'])\n",
    "pyplot.title('Model Train vs Validation Loss')\n",
    "pyplot.ylabel('Loss')\n",
    "pyplot.xlabel('Epoch')\n",
    "pyplot.legend(['Train', 'Validation'], loc='upper right')\n",
    "pyplot.show()"
   ]
  },
  {
   "cell_type": "code",
   "execution_count": 9,
   "metadata": {},
   "outputs": [
    {
     "data": {
      "text/plain": [
       "(0, 5)"
      ]
     },
     "execution_count": 9,
     "metadata": {},
     "output_type": "execute_result"
    },
    {
     "data": {
      "image/png": "[encoded data removed]",
      "text/plain": [
       "<Figure size 432x288 with 2 Axes>"
      ]
     },
     "metadata": {
      "needs_background": "light"
     },
     "output_type": "display_data"
    }
   ],
   "source": [
    "#Plot confusion matrix\n",
    "#%matplotlib inline\n",
    "import seaborn as sn\n",
    "from matplotlib import pyplot as plt\n",
    "ax = plt.subplot()\n",
    "cm = confusion_matrix(y_test,yhat_classes)\n",
    "cm_df = pd.DataFrame(cm)\n",
    "#sn.set(font_scale=1) #for label size\n",
    "sn.heatmap(cm, annot=True, ax = ax)\n",
    "ax.set_xlabel('Predicted labels');ax.set_ylabel('True labels'); \n",
    "ax.set_title('Confusion Matrix');\n",
    "\n",
    "ax.set_ylim(0,num_lab-1)"
   ]
  }
 ],
 "metadata": {
  "kernelspec": {
   "display_name": "Python 3",
   "language": "python",
   "name": "python3"
  },
  "language_info": {
   "codemirror_mode": {
    "name": "ipython",
    "version": 3
   },
   "file_extension": ".py",
   "mimetype": "text/x-python",
   "name": "python",
   "nbconvert_exporter": "python",
   "pygments_lexer": "ipython3",
   "version": "3.6.8"
  }
 },
 "nbformat": 4,
 "nbformat_minor": 2
}
